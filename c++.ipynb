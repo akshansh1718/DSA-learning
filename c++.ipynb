{
 "cells": [
  {
   "cell_type": "markdown",
   "id": "e80c346d-103b-4fa0-8496-ef9ebed3aba6",
   "metadata": {},
   "source": [
    "# Header Files\n"
   ]
  },
  {
   "cell_type": "code",
   "execution_count": 1,
   "id": "b02c6302-9f43-4aa2-90c3-c12494b85eea",
   "metadata": {
    "editable": true,
    "slideshow": {
     "slide_type": ""
    },
    "tags": []
   },
   "outputs": [],
   "source": [
    "#include <iostream>\n",
    "#include <string>\n",
    "using namespace std;"
   ]
  },
  {
   "cell_type": "markdown",
   "id": "a23bf57a-337d-4a34-9edb-860c3c24649c",
   "metadata": {},
   "source": [
    "### Experimenting"
   ]
  },
  {
   "cell_type": "code",
   "execution_count": 2,
   "id": "492ea300-04f7-4ba9-95a6-6febf45ae942",
   "metadata": {
    "editable": true,
    "slideshow": {
     "slide_type": ""
    },
    "tags": []
   },
   "outputs": [
    {
     "name": "stdout",
     "output_type": "stream",
     "text": [
      "hello"
     ]
    }
   ],
   "source": [
    "cout<<\"hello\";"
   ]
  },
  {
   "cell_type": "markdown",
   "id": "21a9678a-acfb-4a9e-8abf-498433fd9ae1",
   "metadata": {},
   "source": [
    "---\n",
    "    "
   ]
  },
  {
   "cell_type": "markdown",
   "id": "7492de74-c39c-4ce9-b6c3-f6837bf0df6c",
   "metadata": {},
   "source": [
    "\n",
    "\n",
    "## Leap Of Faith\n",
    "\n",
    "### Fabonacii \n",
    "0 1 1 2 3 5 8 13 ..."
   ]
  },
  {
   "cell_type": "markdown",
   "id": "bbe8e106-9ec1-4658-832f-ea1ff3916820",
   "metadata": {},
   "source": [
    "![sketch note](./images/fab.png)\n"
   ]
  },
  {
   "cell_type": "code",
   "execution_count": 3,
   "id": "a12a5d80-a033-4e27-8a4d-b14538621990",
   "metadata": {},
   "outputs": [],
   "source": [
    "int fab(int n){\n",
    "    if (n <= 1) return 1;\n",
    "\n",
    "    return n * fab(n-1);\n",
    "}"
   ]
  },
  {
   "cell_type": "markdown",
   "id": "5fe142a9-64db-48f2-bf55-a11f27a348e3",
   "metadata": {},
   "source": [
    "### Testing\n"
   ]
  },
  {
   "cell_type": "code",
   "execution_count": 4,
   "id": "be7b7623-321a-4dcf-8082-46f271de3959",
   "metadata": {},
   "outputs": [
    {
     "name": "stdout",
     "output_type": "stream",
     "text": [
      "24"
     ]
    }
   ],
   "source": [
    "cout<<fab(4);"
   ]
  },
  {
   "cell_type": "markdown",
   "id": "cce053f7-e4ac-4691-b43e-3d2b4c92c4e0",
   "metadata": {},
   "source": [
    "---"
   ]
  },
  {
   "cell_type": "markdown",
   "id": "372ada19-256d-4ea6-8253-ddc1786cba78",
   "metadata": {},
   "source": [
    "###  Sum of first N natural numbers\n",
    "1 +2 + 3 + 4 +5 ....n"
   ]
  },
  {
   "cell_type": "markdown",
   "id": "dd788c87-af2b-4181-ad87-85a3489076bb",
   "metadata": {},
   "source": [
    "![sketch note](./images/sum.png)\n"
   ]
  },
  {
   "cell_type": "code",
   "execution_count": 5,
   "id": "72c14b60-9061-400d-8c99-2ef35291bc81",
   "metadata": {},
   "outputs": [],
   "source": [
    "int sum(int n){\n",
    "    if (n == 1) return n;\n",
    "    return sum(n-1)+n;\n",
    "}"
   ]
  },
  {
   "cell_type": "code",
   "execution_count": 6,
   "id": "1d29f2f5-f8e0-4746-be40-cebb4371222d",
   "metadata": {},
   "outputs": [
    {
     "name": "stdout",
     "output_type": "stream",
     "text": [
      "10"
     ]
    }
   ],
   "source": [
    "cout<<sum(4);"
   ]
  },
  {
   "cell_type": "markdown",
   "id": "2ee6697c-ceac-4889-a1f1-3d95bdc2b5ca",
   "metadata": {},
   "source": [
    "---"
   ]
  },
  {
   "cell_type": "markdown",
   "id": "1dbf1b0a-0d1b-43fe-a995-44d20a6110b6",
   "metadata": {},
   "source": [
    "### Sum of digits"
   ]
  },
  {
   "cell_type": "markdown",
   "id": "885201b1-f5e4-4f46-a725-9dce630be2de",
   "metadata": {},
   "source": [
    "![sketch note](./images/digit.png)\n"
   ]
  },
  {
   "cell_type": "code",
   "execution_count": 7,
   "id": "03809af2-03ef-4056-b626-17a172d14eff",
   "metadata": {},
   "outputs": [
    {
     "name": "stderr",
     "output_type": "stream",
     "text": [
      "input_line_14:3:12: error: call to 'sum' is ambiguous\n",
      "    return sum(n/10) + (n%10);\n",
      "           ^~~\n",
      "input_line_12:1:5: note: candidate function\n",
      "int sum(int n){\n",
      "    ^\n",
      "input_line_14:1:5: note: candidate function\n",
      "int sum(int n){\n",
      "    ^\n"
     ]
    },
    {
     "ename": "Interpreter Error",
     "evalue": "",
     "output_type": "error",
     "traceback": [
      "Interpreter Error: "
     ]
    }
   ],
   "source": [
    "int sum(int n){\n",
    "    if(n==0) return 0;\n",
    "    return sum(n/10) + (n%10);\n",
    "}"
   ]
  },
  {
   "cell_type": "code",
   "execution_count": null,
   "id": "b97dc23b-c217-466f-abd5-f7630d70d29e",
   "metadata": {},
   "outputs": [],
   "source": [
    "cout<< sum(123);"
   ]
  },
  {
   "cell_type": "markdown",
   "id": "d5450a77-343e-4315-ad64-a9121e42c4ac",
   "metadata": {},
   "source": [
    "---"
   ]
  },
  {
   "cell_type": "markdown",
   "id": "8899b74c-ead4-421c-84a2-9bd4c89a217d",
   "metadata": {},
   "source": [
    "### Reverse a string\n"
   ]
  },
  {
   "cell_type": "markdown",
   "id": "0f2899be-70de-479a-948f-a80bafc3cfdc",
   "metadata": {},
   "source": [
    "![sketch note](./images/reverse.png)\n",
    "\n"
   ]
  },
  {
   "cell_type": "code",
   "execution_count": null,
   "id": "393b6833-e5fb-4373-896c-dbfa0fe01fe5",
   "metadata": {},
   "outputs": [],
   "source": [
    "string rev(string s, int idx){\n",
    "    if (idx < 0) return \"\";\n",
    "    return s[idx] + rev(s, idx-1);\n",
    "    \n",
    "}"
   ]
  },
  {
   "cell_type": "code",
   "execution_count": null,
   "id": "2df7cf10-065a-4dda-b69e-d900628a93c8",
   "metadata": {},
   "outputs": [],
   "source": [
    "string s = \"this is a laptop\";\n",
    "cout<<rev(s, s.length()-1);"
   ]
  },
  {
   "cell_type": "markdown",
   "id": "684ba4bc-aadc-4338-b5e5-6edba392198f",
   "metadata": {},
   "source": [
    "---"
   ]
  },
  {
   "cell_type": "markdown",
   "id": "75b65f02-913c-428c-9dad-6ab9650f6528",
   "metadata": {},
   "source": [
    "### Palindrome"
   ]
  },
  {
   "cell_type": "markdown",
   "id": "a18f5459-8996-49ab-9475-3f0d78b4b707",
   "metadata": {},
   "source": [
    "![sketch note](./images/plaindrome.png)\n",
    "\n"
   ]
  },
  {
   "cell_type": "code",
   "execution_count": null,
   "id": "4bb9d2c3-4fdd-49bf-a30c-629dfdaff04c",
   "metadata": {},
   "outputs": [],
   "source": [
    "bool palindrome(string s, int start, int end){\n",
    "    if(start>=end) return true; // start returning\n",
    "    // if(start==end) return true;\n",
    "    \n",
    "    if (palindrome(s,start+1, end-1)){\n",
    "        return (s[start] == s[end])?true:false;\n",
    "            \n",
    "    }else{\n",
    "        return false;\n",
    "    }\n",
    "}\n"
   ]
  },
  {
   "cell_type": "code",
   "execution_count": null,
   "id": "59ea8695-0c86-4739-af7b-f6747647b034",
   "metadata": {},
   "outputs": [],
   "source": [
    "string s = \"NAAAAIN\";\n",
    "cout<<palindrome(s, 0, s.size()-1 );"
   ]
  },
  {
   "cell_type": "markdown",
   "id": "69f1e0d1-b078-43f5-9594-efca6248d8d0",
   "metadata": {},
   "source": [
    "---"
   ]
  },
  {
   "cell_type": "markdown",
   "id": "fdeaaa98-f819-4209-8f16-1ad2d453c56a",
   "metadata": {},
   "source": [
    "### Binary conversion"
   ]
  },
  {
   "cell_type": "markdown",
   "id": "22fde11f-1bb8-4ef7-a2af-25b25b09e799",
   "metadata": {},
   "source": [
    "![sketch note](./images/binary.png)\n",
    "\n"
   ]
  },
  {
   "cell_type": "code",
   "execution_count": null,
   "id": "9dadfe87-feeb-4a85-8920-954fc3fc9fd0",
   "metadata": {},
   "outputs": [],
   "source": [
    "string bin(int n){\n",
    "    if (n==0) return \"\";\n",
    "    return bin(n/2) + (n%2 == 1?\"1\":\"0\");\n",
    "}\n"
   ]
  },
  {
   "cell_type": "code",
   "execution_count": null,
   "id": "ffc43349-2d2b-4dc7-a3e8-2f73fa6a1dbd",
   "metadata": {},
   "outputs": [],
   "source": [
    "cout<< bin(7);\n"
   ]
  },
  {
   "cell_type": "markdown",
   "id": "47243619-2fd1-46b0-9cf7-66317c822e19",
   "metadata": {},
   "source": [
    "---\n",
    "    "
   ]
  },
  {
   "cell_type": "markdown",
   "id": "8332ec1c-a18b-4de7-b737-292cc2288718",
   "metadata": {},
   "source": [
    "### Check sorted array ---> Same logic as of palindrome"
   ]
  },
  {
   "cell_type": "code",
   "execution_count": null,
   "id": "ee860065-6dbb-4eb0-976d-73a42c8cb4eb",
   "metadata": {},
   "outputs": [],
   "source": [
    "bool  sort(vector<int> &A, int idx){\n",
    "    if (idx == A.size()-2) return true;\n",
    "\n",
    "    if (sort(A, idx+1)){\n",
    "        return A[idx]<=A[idx+1]?true:false;\n",
    "    }else{\n",
    "        return false;\n",
    "    }\n",
    "}"
   ]
  },
  {
   "cell_type": "code",
   "execution_count": null,
   "id": "44f11038-e219-4768-9cc9-c04743dec09b",
   "metadata": {},
   "outputs": [],
   "source": [
    "vector<int> A = {2,1,3,4};\n",
    "cout<< sort(A,0);"
   ]
  },
  {
   "cell_type": "markdown",
   "id": "8c7f51a9-32e7-498e-8446-57a12f8333d9",
   "metadata": {},
   "source": [
    "---"
   ]
  },
  {
   "cell_type": "markdown",
   "id": "a8f26f71-dbc2-4bba-86d7-4fb61306eadb",
   "metadata": {},
   "source": [
    "\n",
    "| LoF Pattern         | Example Problems                       |\n",
    "| ------------------- | -------------------------------------- |\n",
    "| Head Recursion      | Sum digits, string reverse, isSorted   |\n",
    "| Tail Recursion      | Factorial, power, last index           |\n",
    "| Divide & Conquer    | Merge sort, binary search, tree height |\n",
    "| Include/Exclude     | Subsets, knapsack, coin change         |\n",
    "| Two-pointer         | Palindrome check, string compare       |\n",
    "| DFS / Backtracking  | N-Queens, Sudoku, Maze Path            |\n",
    "| Tree / Graph DFS    | Tree traversal, cycle detection        |\n",
    "| DP with Memoization | Fibonacci, LCS, coin change            |\n"
   ]
  },
  {
   "cell_type": "markdown",
   "id": "fda67f15-d43f-498f-a15a-98d0beccd3e4",
   "metadata": {},
   "source": [
    "\n",
    "---"
   ]
  },
  {
   "cell_type": "markdown",
   "id": "d36fd614-eb87-4ecc-85d4-1876dd9f5528",
   "metadata": {},
   "source": [
    "### **\"We go first\"**  technique\n",
    "### **\"We go last\"**  in Divide & conquer"
   ]
  },
  {
   "cell_type": "markdown",
   "id": "9a201698-362e-477d-b4a2-1c8b4d111eea",
   "metadata": {},
   "source": [
    "        1\n",
    "       / \\\n",
    "      2   3\n",
    "     /   / \\\n",
    "    4   5   6\n",
    "             \\\n",
    "              16\n",
    "                \\\n",
    "                 17\n"
   ]
  },
  {
   "cell_type": "code",
   "execution_count": 1,
   "id": "153ae8cb-3be5-4e72-b65b-097b147371ff",
   "metadata": {},
   "outputs": [],
   "source": [
    "\n",
    "// Define the TreeNode class\n",
    "struct TreeNode {\n",
    "    int val;\n",
    "    TreeNode* left;\n",
    "    TreeNode* right;\n",
    "\n",
    "    TreeNode(int x) : val(x), left(nullptr), right(nullptr) {}\n",
    "};\n"
   ]
  },
  {
   "cell_type": "code",
   "execution_count": 2,
   "id": "3c187531-eece-4b8d-9e3a-07a0ba51eabe",
   "metadata": {},
   "outputs": [
    {
     "name": "stdout",
     "output_type": "stream",
     "text": [
      "Binary tree created.\n"
     ]
    },
    {
     "data": {
      "text/plain": [
       "@0x7ffee0484ca0"
      ]
     },
     "execution_count": 2,
     "metadata": {},
     "output_type": "execute_result"
    }
   ],
   "source": [
    "#include <iostream>\n",
    "using namespace std;\n",
    "\n",
    "\n",
    "// Build the tree:\n",
    "//         1\n",
    "//        / \\\n",
    "//       2   3\n",
    "//      /   / \\\n",
    "//     4   5   6\n",
    "\n",
    "TreeNode* root = new TreeNode(1);\n",
    "root->left = new TreeNode(2);\n",
    "root->right = new TreeNode(3);\n",
    "\n",
    "root->left->left = new TreeNode(4);\n",
    "\n",
    "root->right->left = new TreeNode(5);\n",
    "root->right->right = new TreeNode(6);\n",
    "root->right->right->right = new TreeNode(16);\n",
    "root->right->right->right->right = new TreeNode(17);\n",
    "\n",
    "cout << \"Binary tree created.\" << endl;\n",
    "\n"
   ]
  },
  {
   "cell_type": "markdown",
   "id": "c4069d51-a9f8-4240-8a67-1c6f27d5a657",
   "metadata": {},
   "source": [
    "# Trees"
   ]
  },
  {
   "cell_type": "markdown",
   "id": "4c6c1435-758e-4203-9274-e96ebe91af23",
   "metadata": {},
   "source": [
    "![](./images/tree.png)\n",
    "\n"
   ]
  },
  {
   "cell_type": "markdown",
   "id": "ac74b1d9-b3c7-4946-ad2e-34f4e4689dc9",
   "metadata": {},
   "source": [
    "\n",
    "### Count leaf node. Not sure if its correct?\n"
   ]
  },
  {
   "cell_type": "code",
   "execution_count": null,
   "id": "45361bdb-1955-4cb0-94e2-1c157f94d26a",
   "metadata": {},
   "outputs": [],
   "source": [
    "int func(TreeNode* node){\n",
    "    if (node == NULL) return 0;\n",
    "\n",
    "    int left = func(node->left);\n",
    "    int right = func(node->right);\n",
    "\n",
    "    if (node->left == NULL && node->right == NULL){\n",
    "        return 1;}\n",
    "    else{\n",
    "        return left + right;\n",
    "    }\n",
    "}"
   ]
  },
  {
   "cell_type": "code",
   "execution_count": null,
   "id": "620b4f8e-ac55-41f4-8175-7899ae6b89b6",
   "metadata": {},
   "outputs": [],
   "source": [
    "cout<<func(root);"
   ]
  },
  {
   "cell_type": "markdown",
   "id": "c89e1c50-a2dc-40fa-bea3-0df91d9c2135",
   "metadata": {},
   "source": [
    "###  Count height of tree - \"I'll go last\""
   ]
  },
  {
   "cell_type": "code",
   "execution_count": null,
   "id": "304a3515-e802-4274-844d-486a7b3b8a8d",
   "metadata": {},
   "outputs": [],
   "source": [
    "\n",
    "\n",
    "\n",
    "\n",
    "int foo(TreeNode *node){\n",
    "    if (node == NULL) return 0;\n",
    "\n",
    "    int left = foo(node->left);//give me height of left\n",
    "    \n",
    "    int right = foo(node->right); // give me height of right\n",
    "    //i'll just add 1 for my node to your answers(i'll choose max of you both)\n",
    "    return 1 + max(left,right);\n",
    "}"
   ]
  },
  {
   "cell_type": "code",
   "execution_count": null,
   "id": "f5e64ec3-49cf-43cf-b8c1-5ed9bc982b74",
   "metadata": {},
   "outputs": [],
   "source": [
    "cout <<foo(root);"
   ]
  },
  {
   "cell_type": "code",
   "execution_count": null,
   "id": "2e3c3a8b-4ad4-4f08-839c-4af89a1e135f",
   "metadata": {},
   "outputs": [],
   "source": [
    "cout<<\"hi\";"
   ]
  },
  {
   "cell_type": "markdown",
   "id": "a3523a92-eb81-4436-808b-77d1c4709b88",
   "metadata": {},
   "source": [
    "## Check if tree is balanced"
   ]
  },
  {
   "cell_type": "markdown",
   "id": "3b11203c-691d-4723-bdbf-b489e85c515b",
   "metadata": {},
   "source": [
    "![](./images/balanced.png)\n",
    "\n"
   ]
  },
  {
   "cell_type": "markdown",
   "id": "5e7ac98c-bacc-49a3-a739-d4ea3c4b28b0",
   "metadata": {},
   "source": [
    "# Check if height difference of left or right subtree is greater then 1"
   ]
  },
  {
   "cell_type": "code",
   "execution_count": null,
   "id": "dde8c780-ec46-4264-9428-1877f36a701b",
   "metadata": {},
   "outputs": [],
   "source": [
    "void printTree(TreeNode *node){\n",
    "    if (node ==NULL) return;\n",
    "}"
   ]
  },
  {
   "cell_type": "code",
   "execution_count": 7,
   "id": "163b85c8-382b-4202-a7a4-c3c7f929da27",
   "metadata": {},
   "outputs": [
    {
     "name": "stderr",
     "output_type": "stream",
     "text": [
      "input_line_17:3:28: error: function definition is not allowed here\n",
      "int balance(TreeNode *node){\n",
      "                           ^\n"
     ]
    },
    {
     "ename": "Interpreter Error",
     "evalue": "",
     "output_type": "error",
     "traceback": [
      "Interpreter Error: "
     ]
    }
   ],
   "source": [
    "/**\n",
    " * Definition for binary tree\n",
    " * struct TreeNode {\n",
    " *     int val;\n",
    " *     TreeNode *left;\n",
    " *     TreeNode *right;\n",
    " *     TreeNode(int x) : val(x), left(NULL), right(NULL) {}\n",
    " * };\n",
    " */\n",
    "bool ans = true;\n",
    "int ht(TreeNode* A){\n",
    "    if (A == NULL) return 0;\n",
    "\n",
    "    int left = ht(A->left);\n",
    "    int right = ht(A->right);\n",
    "    int ht = 1 + max(left,right);\n",
    "    if (abs(left-right) >1) ans = false;\n",
    "    return ht;\n",
    "\n",
    "}\n",
    "\n",
    "int Solution::isBalanced(TreeNode* A) {\n",
    "    ans = true;\n",
    "    ht(A);\n",
    "    return ans?1:0;\n",
    "    \n",
    "}\n"
   ]
  },
  {
   "cell_type": "code",
   "execution_count": 5,
   "id": "7630903a-6df7-4abc-9732-b72d14d0bf9a",
   "metadata": {},
   "outputs": [
    {
     "name": "stdout",
     "output_type": "stream",
     "text": [
      "5"
     ]
    }
   ],
   "source": [
    "cout<<balance(root);\n",
    "cout<<\"\\n Tree balanced: \", balanced);"
   ]
  },
  {
   "cell_type": "markdown",
   "id": "5517f199-a638-4539-aac0-65c78e1224f2",
   "metadata": {},
   "source": [
    "# Checking is two trees are identical"
   ]
  },
  {
   "cell_type": "markdown",
   "id": "9e966aba-e9ff-4f03-91b8-da60a39f6597",
   "metadata": {},
   "source": [
    "### i'll go first. I'll check first then you check the remainig."
   ]
  },
  {
   "cell_type": "code",
   "execution_count": null,
   "id": "42018ef3-a0c6-42b7-aead-44aebcdafeca",
   "metadata": {},
   "outputs": [],
   "source": [
    "int Solution::isSameTree(TreeNode* A, TreeNode* B) {\n",
    "    if (A==NULL && B==NULL) return 1;\n",
    "    if ((A==NULL && B!=NULL)|| \n",
    "       (A!=NULL && B==NULL)||\n",
    "       (A->val != B->val)){\n",
    "        return 0;\n",
    "    }\n",
    "    int result1 = isSameTree(A->left,B->left);\n",
    "    int result2 = isSameTree(A->right, B->right);\n",
    "    return result1 & result1;\n",
    "}"
   ]
  },
  {
   "cell_type": "markdown",
   "id": "18d130c8-9097-4071-a6c7-79eb9781a303",
   "metadata": {},
   "source": [
    "# Mirror tree\n",
    "### Check first if the left & right are same. Then let faith check the rest.\n",
    "### Used the same identical tree comparision code just in this case we want to compare tree with its inverted child nodes."
   ]
  },
  {
   "cell_type": "code",
   "execution_count": null,
   "id": "50ca5394-b40b-480e-a855-ef42b8d583b2",
   "metadata": {},
   "outputs": [],
   "source": [
    "class Solution {\n",
    "public:\n",
    "    private: \n",
    "    bool foo(TreeNode* A, TreeNode* B){\n",
    "        if (A==NULL && B==NULL) return 1;\n",
    "        if ((A==NULL && B!=NULL)|| \n",
    "            (A!=NULL && B==NULL)||\n",
    "            (A->val != B->val)){\n",
    "                return false;\n",
    "        }\n",
    "        bool result1 = foo(A->left,B->right);\n",
    "        bool result2 = foo(A->right, B->left);\n",
    "        return result1 & result2;\n",
    "    }\n",
    "    public: \n",
    "    bool isSymmetric(TreeNode* root) {\n",
    "        if (!root) return false;\n",
    "        return foo(root->left, root->right);\n",
    "    }\n",
    "        \n",
    "};"
   ]
  },
  {
   "cell_type": "code",
   "execution_count": 13,
   "id": "e403f34f-091a-43d8-9dc6-f63f087b0866",
   "metadata": {},
   "outputs": [
    {
     "name": "stderr",
     "output_type": "stream",
     "text": [
      "input_line_31:14:14: error: assigning to '__cling_N52::TreeNode *' from incompatible type '__cling_N516::TreeNode *'\n",
      "root->left = new TreeNode(2);\n",
      "             ^~~~~~~~~~~~~~~\n",
      "input_line_31:15:15: error: assigning to '__cling_N52::TreeNode *' from incompatible type '__cling_N516::TreeNode *'\n",
      "root->right = new TreeNode(3);\n",
      "              ^~~~~~~~~~~~~~~\n",
      "input_line_31:16:20: error: assigning to '__cling_N52::TreeNode *' from incompatible type '__cling_N516::TreeNode *'\n",
      "root->left->left = new TreeNode(4);\n",
      "                   ^~~~~~~~~~~~~~~\n",
      "input_line_31:17:21: error: assigning to '__cling_N52::TreeNode *' from incompatible type '__cling_N516::TreeNode *'\n",
      "root->right->left = new TreeNode(5);\n",
      "                    ^~~~~~~~~~~~~~~\n",
      "input_line_31:18:22: error: assigning to '__cling_N52::TreeNode *' from incompatible type '__cling_N516::TreeNode *'\n",
      "root->right->right = new TreeNode(6);\n",
      "                     ^~~~~~~~~~~~~~~\n",
      "input_line_31:19:29: error: assigning to '__cling_N52::TreeNode *' from incompatible type '__cling_N516::TreeNode *'\n",
      "root->right->right->right = new TreeNode(16);\n",
      "                            ^~~~~~~~~~~~~~~~\n",
      "input_line_31:20:36: error: assigning to '__cling_N52::TreeNode *' from incompatible type '__cling_N516::TreeNode *'\n",
      "root->right->right->right->right = new TreeNode(17);\n",
      "                                   ^~~~~~~~~~~~~~~~\n"
     ]
    },
    {
     "ename": "Interpreter Error",
     "evalue": "",
     "output_type": "error",
     "traceback": [
      "Interpreter Error: "
     ]
    }
   ],
   "source": [
    "\n",
    "// Define the TreeNode class\n",
    "struct TreeNode {\n",
    "    int val;\n",
    "    TreeNode* left;\n",
    "    TreeNode* right;\n",
    "\n",
    "    TreeNode(int x) : val(x), left(nullptr), right(nullptr) {}\n",
    "};\n",
    "\n",
    "#include <iostream>\n",
    "using namespace std;\n",
    "\n",
    "\n",
    "// Build the tree:\n",
    "//         1\n",
    "//        / \\\n",
    "//       2   3\n",
    "//      /   / \\\n",
    "//     4   5   6\n",
    "//              \\\n",
    "//               16\n",
    "//                \\\n",
    "//                17\n",
    "\n",
    "TreeNode* root2 = new TreeNode(1);\n",
    "root->left = new TreeNode(2);\n",
    "root->right = new TreeNode(3);\n",
    "\n",
    "root->left->left = new TreeNode(4);\n",
    "\n",
    "root->right->left = new TreeNode(5);\n",
    "root->right->right = new TreeNode(6);\n",
    "root->right->right->right = new TreeNode(16);\n",
    "root->right->right->right->right = new TreeNode(17);\n",
    "\n",
    "cout << \"Binary tree created.\" << endl;\n",
    "\n"
   ]
  },
  {
   "cell_type": "code",
   "execution_count": null,
   "id": "1ac67af2-1a2a-401a-9677-0c09e004463a",
   "metadata": {},
   "outputs": [],
   "source": [
    "void one_child(TreeNode* root){\n",
    "    if(root = nullptr) return;\n",
    "    if((root->left != nullptr && root->right==nullptr) ||\n",
    "        (root->left == nullptr && root->right != nullptr)){\n",
    "        cout<<\"One child node\"<<root->val;\n",
    "    }   \n",
    "    one_child(root->left);\n",
    "    one_child(root->right);\n",
    "}"
   ]
  }
 ],
 "metadata": {
  "kernelspec": {
   "display_name": "C++17",
   "language": "C++17",
   "name": "xcpp17"
  },
  "language_info": {
   "codemirror_mode": "text/x-c++src",
   "file_extension": ".cpp",
   "mimetype": "text/x-c++src",
   "name": "c++",
   "version": "17"
  }
 },
 "nbformat": 4,
 "nbformat_minor": 5
}
