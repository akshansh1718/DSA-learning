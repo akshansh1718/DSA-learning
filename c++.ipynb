{
 "cells": [
  {
   "cell_type": "markdown",
   "id": "e80c346d-103b-4fa0-8496-ef9ebed3aba6",
   "metadata": {},
   "source": [
    "# Header Files\n"
   ]
  },
  {
   "cell_type": "code",
   "execution_count": 1,
   "id": "b02c6302-9f43-4aa2-90c3-c12494b85eea",
   "metadata": {
    "editable": true,
    "slideshow": {
     "slide_type": ""
    },
    "tags": []
   },
   "outputs": [],
   "source": [
    "#include <iostream>\n",
    "#include <string>\n",
    "using namespace std;"
   ]
  },
  {
   "cell_type": "markdown",
   "id": "a23bf57a-337d-4a34-9edb-860c3c24649c",
   "metadata": {},
   "source": [
    "### Experimenting"
   ]
  },
  {
   "cell_type": "code",
   "execution_count": 9,
   "id": "492ea300-04f7-4ba9-95a6-6febf45ae942",
   "metadata": {
    "editable": true,
    "slideshow": {
     "slide_type": ""
    },
    "tags": []
   },
   "outputs": [
    {
     "name": "stdout",
     "output_type": "stream",
     "text": [
      "hello"
     ]
    }
   ],
   "source": [
    "cout<<\"hello\";"
   ]
  },
  {
   "cell_type": "markdown",
   "id": "21a9678a-acfb-4a9e-8abf-498433fd9ae1",
   "metadata": {},
   "source": [
    "---\n",
    "    "
   ]
  },
  {
   "cell_type": "markdown",
   "id": "7492de74-c39c-4ce9-b6c3-f6837bf0df6c",
   "metadata": {},
   "source": [
    "\n",
    "\n",
    "## Leap Of Faith\n",
    "\n",
    "### Fabonacii \n",
    "0 1 1 2 3 5 8 13 ..."
   ]
  },
  {
   "cell_type": "markdown",
   "id": "bbe8e106-9ec1-4658-832f-ea1ff3916820",
   "metadata": {},
   "source": [
    "![sketch note](./images/fab.png)\n"
   ]
  },
  {
   "cell_type": "code",
   "execution_count": 21,
   "id": "a12a5d80-a033-4e27-8a4d-b14538621990",
   "metadata": {},
   "outputs": [],
   "source": [
    "int fab(int n){\n",
    "    if (n <= 1) return 1;\n",
    "\n",
    "    return n * fab(n-1);\n",
    "}"
   ]
  },
  {
   "cell_type": "markdown",
   "id": "5fe142a9-64db-48f2-bf55-a11f27a348e3",
   "metadata": {},
   "source": [
    "### Testing\n"
   ]
  },
  {
   "cell_type": "code",
   "execution_count": 22,
   "id": "be7b7623-321a-4dcf-8082-46f271de3959",
   "metadata": {},
   "outputs": [
    {
     "name": "stdout",
     "output_type": "stream",
     "text": [
      "24"
     ]
    }
   ],
   "source": [
    "cout<<fab(4);"
   ]
  },
  {
   "cell_type": "markdown",
   "id": "cce053f7-e4ac-4691-b43e-3d2b4c92c4e0",
   "metadata": {},
   "source": [
    "---"
   ]
  },
  {
   "cell_type": "markdown",
   "id": "372ada19-256d-4ea6-8253-ddc1786cba78",
   "metadata": {},
   "source": [
    "###  Sum of first N natural numbers\n",
    "1 +2 + 3 + 4 +5 ....n"
   ]
  },
  {
   "cell_type": "markdown",
   "id": "dd788c87-af2b-4181-ad87-85a3489076bb",
   "metadata": {},
   "source": [
    "![sketch note](./images/sum.png)\n"
   ]
  },
  {
   "cell_type": "code",
   "execution_count": 23,
   "id": "72c14b60-9061-400d-8c99-2ef35291bc81",
   "metadata": {},
   "outputs": [],
   "source": [
    "int sum(int n){\n",
    "    if (n == 1) return n;\n",
    "    return sum(n-1)+n;\n",
    "}"
   ]
  },
  {
   "cell_type": "code",
   "execution_count": 24,
   "id": "1d29f2f5-f8e0-4746-be40-cebb4371222d",
   "metadata": {},
   "outputs": [
    {
     "name": "stdout",
     "output_type": "stream",
     "text": [
      "10"
     ]
    }
   ],
   "source": [
    "cout<<sum(4);"
   ]
  },
  {
   "cell_type": "markdown",
   "id": "2ee6697c-ceac-4889-a1f1-3d95bdc2b5ca",
   "metadata": {},
   "source": [
    "---"
   ]
  },
  {
   "cell_type": "markdown",
   "id": "1dbf1b0a-0d1b-43fe-a995-44d20a6110b6",
   "metadata": {},
   "source": [
    "### Sum of digits"
   ]
  },
  {
   "cell_type": "markdown",
   "id": "885201b1-f5e4-4f46-a725-9dce630be2de",
   "metadata": {},
   "source": [
    "![sketch note](./images/digit.png)\n"
   ]
  },
  {
   "cell_type": "code",
   "execution_count": 26,
   "id": "03809af2-03ef-4056-b626-17a172d14eff",
   "metadata": {},
   "outputs": [],
   "source": [
    "int sum(int n){\n",
    "    if(n==0) return 0;\n",
    "    return sum(n/10) + (n%10);\n",
    "}"
   ]
  },
  {
   "cell_type": "code",
   "execution_count": 27,
   "id": "b97dc23b-c217-466f-abd5-f7630d70d29e",
   "metadata": {},
   "outputs": [
    {
     "name": "stdout",
     "output_type": "stream",
     "text": [
      "6"
     ]
    }
   ],
   "source": [
    "cout<< sum(123);"
   ]
  },
  {
   "cell_type": "markdown",
   "id": "d5450a77-343e-4315-ad64-a9121e42c4ac",
   "metadata": {},
   "source": [
    "---"
   ]
  },
  {
   "cell_type": "markdown",
   "id": "8899b74c-ead4-421c-84a2-9bd4c89a217d",
   "metadata": {},
   "source": [
    "### Reverse a string\n"
   ]
  },
  {
   "cell_type": "markdown",
   "id": "0f2899be-70de-479a-948f-a80bafc3cfdc",
   "metadata": {},
   "source": [
    "![sketch note](./images/reverse.png)\n",
    "\n"
   ]
  },
  {
   "cell_type": "code",
   "execution_count": 14,
   "id": "393b6833-e5fb-4373-896c-dbfa0fe01fe5",
   "metadata": {},
   "outputs": [],
   "source": [
    "string rev(string s, int idx){\n",
    "    if (idx < 0) return \"\";\n",
    "    return s[idx] + rev(s, idx-1);\n",
    "    \n",
    "}"
   ]
  },
  {
   "cell_type": "code",
   "execution_count": 16,
   "id": "2df7cf10-065a-4dda-b69e-d900628a93c8",
   "metadata": {},
   "outputs": [
    {
     "name": "stdout",
     "output_type": "stream",
     "text": [
      "potpal a si siht"
     ]
    }
   ],
   "source": [
    "string s = \"this is a laptop\";\n",
    "cout<<rev(s, s.length()-1);"
   ]
  },
  {
   "cell_type": "markdown",
   "id": "684ba4bc-aadc-4338-b5e5-6edba392198f",
   "metadata": {},
   "source": [
    "---"
   ]
  },
  {
   "cell_type": "markdown",
   "id": "75b65f02-913c-428c-9dad-6ab9650f6528",
   "metadata": {},
   "source": [
    "### Palindrome"
   ]
  },
  {
   "cell_type": "code",
   "execution_count": 2,
   "id": "4bb9d2c3-4fdd-49bf-a30c-629dfdaff04c",
   "metadata": {},
   "outputs": [
    {
     "name": "stderr",
     "output_type": "stream",
     "text": [
      "input_line_9:8:1: warning: control may reach end of non-void function [-Wreturn-type]\n",
      "}\n",
      "^\n"
     ]
    }
   ],
   "source": [
    "bool palindrome(string s, int start, int end){\n",
    "    if(start>=end) return true;\n",
    "    \n",
    "    if (palindrome(s,start+1, end-1)){\n",
    "        return (s[start] == s[end])?true:false;\n",
    "            \n",
    "    }\n",
    "}\n"
   ]
  },
  {
   "cell_type": "code",
   "execution_count": null,
   "id": "59ea8695-0c86-4739-af7b-f6747647b034",
   "metadata": {},
   "outputs": [],
   "source": [
    "string s = \"NITIIN\";\n",
    "cout<<palindrome(s, 0, s.size()-1 );"
   ]
  },
  {
   "cell_type": "code",
   "execution_count": null,
   "id": "8d374a21-0c9b-487d-ba90-180bff2f9164",
   "metadata": {},
   "outputs": [],
   "source": []
  }
 ],
 "metadata": {
  "kernelspec": {
   "display_name": "C++17",
   "language": "C++17",
   "name": "xcpp17"
  },
  "language_info": {
   "codemirror_mode": "text/x-c++src",
   "file_extension": ".cpp",
   "mimetype": "text/x-c++src",
   "name": "c++",
   "version": "17"
  }
 },
 "nbformat": 4,
 "nbformat_minor": 5
}
