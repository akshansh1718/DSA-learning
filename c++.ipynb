{
 "cells": [
  {
   "cell_type": "markdown",
   "id": "e80c346d-103b-4fa0-8496-ef9ebed3aba6",
   "metadata": {},
   "source": [
    "# Header Files\n"
   ]
  },
  {
   "cell_type": "code",
   "execution_count": 1,
   "id": "b02c6302-9f43-4aa2-90c3-c12494b85eea",
   "metadata": {
    "editable": true,
    "slideshow": {
     "slide_type": ""
    },
    "tags": []
   },
   "outputs": [],
   "source": [
    "#include <iostream>\n",
    "#include <string>\n",
    "using namespace std;"
   ]
  },
  {
   "cell_type": "markdown",
   "id": "a23bf57a-337d-4a34-9edb-860c3c24649c",
   "metadata": {},
   "source": [
    "### Experimenting"
   ]
  },
  {
   "cell_type": "code",
   "execution_count": 2,
   "id": "492ea300-04f7-4ba9-95a6-6febf45ae942",
   "metadata": {
    "editable": true,
    "slideshow": {
     "slide_type": ""
    },
    "tags": []
   },
   "outputs": [
    {
     "name": "stdout",
     "output_type": "stream",
     "text": [
      "hello"
     ]
    }
   ],
   "source": [
    "cout<<\"hello\";"
   ]
  },
  {
   "cell_type": "markdown",
   "id": "21a9678a-acfb-4a9e-8abf-498433fd9ae1",
   "metadata": {},
   "source": [
    "---\n",
    "    "
   ]
  },
  {
   "cell_type": "markdown",
   "id": "7492de74-c39c-4ce9-b6c3-f6837bf0df6c",
   "metadata": {},
   "source": [
    "\n",
    "\n",
    "## Leap Of Faith\n",
    "\n",
    "### Fabonacii \n",
    "0 1 1 2 3 5 8 13 ..."
   ]
  },
  {
   "cell_type": "markdown",
   "id": "bbe8e106-9ec1-4658-832f-ea1ff3916820",
   "metadata": {},
   "source": [
    "![sketch note](./images/fab.png)\n"
   ]
  },
  {
   "cell_type": "code",
   "execution_count": 3,
   "id": "a12a5d80-a033-4e27-8a4d-b14538621990",
   "metadata": {},
   "outputs": [],
   "source": [
    "int fab(int n){\n",
    "    if (n <= 1) return 1;\n",
    "\n",
    "    return n * fab(n-1);\n",
    "}"
   ]
  },
  {
   "cell_type": "markdown",
   "id": "5fe142a9-64db-48f2-bf55-a11f27a348e3",
   "metadata": {},
   "source": [
    "### Testing\n"
   ]
  },
  {
   "cell_type": "code",
   "execution_count": 4,
   "id": "be7b7623-321a-4dcf-8082-46f271de3959",
   "metadata": {},
   "outputs": [
    {
     "name": "stdout",
     "output_type": "stream",
     "text": [
      "24"
     ]
    }
   ],
   "source": [
    "cout<<fab(4);"
   ]
  },
  {
   "cell_type": "markdown",
   "id": "cce053f7-e4ac-4691-b43e-3d2b4c92c4e0",
   "metadata": {},
   "source": [
    "---"
   ]
  },
  {
   "cell_type": "markdown",
   "id": "372ada19-256d-4ea6-8253-ddc1786cba78",
   "metadata": {},
   "source": [
    "###  Sum of first N natural numbers\n",
    "1 +2 + 3 + 4 +5 ....n"
   ]
  },
  {
   "cell_type": "markdown",
   "id": "dd788c87-af2b-4181-ad87-85a3489076bb",
   "metadata": {},
   "source": [
    "![sketch note](./images/sum.png)\n"
   ]
  },
  {
   "cell_type": "code",
   "execution_count": 5,
   "id": "72c14b60-9061-400d-8c99-2ef35291bc81",
   "metadata": {},
   "outputs": [],
   "source": [
    "int sum(int n){\n",
    "    if (n == 1) return n;\n",
    "    return sum(n-1)+n;\n",
    "}"
   ]
  },
  {
   "cell_type": "code",
   "execution_count": 6,
   "id": "1d29f2f5-f8e0-4746-be40-cebb4371222d",
   "metadata": {},
   "outputs": [
    {
     "name": "stdout",
     "output_type": "stream",
     "text": [
      "10"
     ]
    }
   ],
   "source": [
    "cout<<sum(4);"
   ]
  },
  {
   "cell_type": "markdown",
   "id": "2ee6697c-ceac-4889-a1f1-3d95bdc2b5ca",
   "metadata": {},
   "source": [
    "---"
   ]
  },
  {
   "cell_type": "markdown",
   "id": "1dbf1b0a-0d1b-43fe-a995-44d20a6110b6",
   "metadata": {},
   "source": [
    "### Sum of digits"
   ]
  },
  {
   "cell_type": "markdown",
   "id": "885201b1-f5e4-4f46-a725-9dce630be2de",
   "metadata": {},
   "source": [
    "![sketch note](./images/digit.png)\n"
   ]
  },
  {
   "cell_type": "code",
   "execution_count": 7,
   "id": "03809af2-03ef-4056-b626-17a172d14eff",
   "metadata": {},
   "outputs": [
    {
     "name": "stderr",
     "output_type": "stream",
     "text": [
      "input_line_14:3:12: error: call to 'sum' is ambiguous\n",
      "    return sum(n/10) + (n%10);\n",
      "           ^~~\n",
      "input_line_12:1:5: note: candidate function\n",
      "int sum(int n){\n",
      "    ^\n",
      "input_line_14:1:5: note: candidate function\n",
      "int sum(int n){\n",
      "    ^\n"
     ]
    },
    {
     "ename": "Interpreter Error",
     "evalue": "",
     "output_type": "error",
     "traceback": [
      "Interpreter Error: "
     ]
    }
   ],
   "source": [
    "int sum(int n){\n",
    "    if(n==0) return 0;\n",
    "    return sum(n/10) + (n%10);\n",
    "}"
   ]
  },
  {
   "cell_type": "code",
   "execution_count": null,
   "id": "b97dc23b-c217-466f-abd5-f7630d70d29e",
   "metadata": {},
   "outputs": [],
   "source": [
    "cout<< sum(123);"
   ]
  },
  {
   "cell_type": "markdown",
   "id": "d5450a77-343e-4315-ad64-a9121e42c4ac",
   "metadata": {},
   "source": [
    "---"
   ]
  },
  {
   "cell_type": "markdown",
   "id": "8899b74c-ead4-421c-84a2-9bd4c89a217d",
   "metadata": {},
   "source": [
    "### Reverse a string\n"
   ]
  },
  {
   "cell_type": "markdown",
   "id": "0f2899be-70de-479a-948f-a80bafc3cfdc",
   "metadata": {},
   "source": [
    "![sketch note](./images/reverse.png)\n",
    "\n"
   ]
  },
  {
   "cell_type": "code",
   "execution_count": null,
   "id": "393b6833-e5fb-4373-896c-dbfa0fe01fe5",
   "metadata": {},
   "outputs": [],
   "source": [
    "string rev(string s, int idx){\n",
    "    if (idx < 0) return \"\";\n",
    "    return s[idx] + rev(s, idx-1);\n",
    "    \n",
    "}"
   ]
  },
  {
   "cell_type": "code",
   "execution_count": null,
   "id": "2df7cf10-065a-4dda-b69e-d900628a93c8",
   "metadata": {},
   "outputs": [],
   "source": [
    "string s = \"this is a laptop\";\n",
    "cout<<rev(s, s.length()-1);"
   ]
  },
  {
   "cell_type": "markdown",
   "id": "684ba4bc-aadc-4338-b5e5-6edba392198f",
   "metadata": {},
   "source": [
    "---"
   ]
  },
  {
   "cell_type": "markdown",
   "id": "75b65f02-913c-428c-9dad-6ab9650f6528",
   "metadata": {},
   "source": [
    "### Palindrome"
   ]
  },
  {
   "cell_type": "markdown",
   "id": "a18f5459-8996-49ab-9475-3f0d78b4b707",
   "metadata": {},
   "source": [
    "![sketch note](./images/plaindrome.png)\n",
    "\n"
   ]
  },
  {
   "cell_type": "code",
   "execution_count": null,
   "id": "4bb9d2c3-4fdd-49bf-a30c-629dfdaff04c",
   "metadata": {},
   "outputs": [],
   "source": [
    "bool palindrome(string s, int start, int end){\n",
    "    if(start>=end) return true; // start returning\n",
    "    // if(start==end) return true;\n",
    "    \n",
    "    if (palindrome(s,start+1, end-1)){\n",
    "        return (s[start] == s[end])?true:false;\n",
    "            \n",
    "    }else{\n",
    "        return false;\n",
    "    }\n",
    "}\n"
   ]
  },
  {
   "cell_type": "code",
   "execution_count": null,
   "id": "59ea8695-0c86-4739-af7b-f6747647b034",
   "metadata": {},
   "outputs": [],
   "source": [
    "string s = \"NAAAAIN\";\n",
    "cout<<palindrome(s, 0, s.size()-1 );"
   ]
  },
  {
   "cell_type": "markdown",
   "id": "69f1e0d1-b078-43f5-9594-efca6248d8d0",
   "metadata": {},
   "source": [
    "---"
   ]
  },
  {
   "cell_type": "markdown",
   "id": "fdeaaa98-f819-4209-8f16-1ad2d453c56a",
   "metadata": {},
   "source": [
    "### Binary conversion"
   ]
  },
  {
   "cell_type": "markdown",
   "id": "22fde11f-1bb8-4ef7-a2af-25b25b09e799",
   "metadata": {},
   "source": [
    "![sketch note](./images/binary.png)\n",
    "\n"
   ]
  },
  {
   "cell_type": "code",
   "execution_count": null,
   "id": "9dadfe87-feeb-4a85-8920-954fc3fc9fd0",
   "metadata": {},
   "outputs": [],
   "source": [
    "string bin(int n){\n",
    "    if (n==0) return \"\";\n",
    "    return bin(n/2) + (n%2 == 1?\"1\":\"0\");\n",
    "}\n"
   ]
  },
  {
   "cell_type": "code",
   "execution_count": null,
   "id": "ffc43349-2d2b-4dc7-a3e8-2f73fa6a1dbd",
   "metadata": {},
   "outputs": [],
   "source": [
    "cout<< bin(7);\n"
   ]
  },
  {
   "cell_type": "markdown",
   "id": "47243619-2fd1-46b0-9cf7-66317c822e19",
   "metadata": {},
   "source": [
    "---\n",
    "    "
   ]
  },
  {
   "cell_type": "markdown",
   "id": "8332ec1c-a18b-4de7-b737-292cc2288718",
   "metadata": {},
   "source": [
    "### Check sorted array ---> Same logic as of palindrome"
   ]
  },
  {
   "cell_type": "code",
   "execution_count": null,
   "id": "ee860065-6dbb-4eb0-976d-73a42c8cb4eb",
   "metadata": {},
   "outputs": [],
   "source": [
    "bool  sort(vector<int> &A, int idx){\n",
    "    if (idx == A.size()-2) return true;\n",
    "\n",
    "    if (sort(A, idx+1)){\n",
    "        return A[idx]<=A[idx+1]?true:false;\n",
    "    }else{\n",
    "        return false;\n",
    "    }\n",
    "}"
   ]
  },
  {
   "cell_type": "code",
   "execution_count": null,
   "id": "44f11038-e219-4768-9cc9-c04743dec09b",
   "metadata": {},
   "outputs": [],
   "source": [
    "vector<int> A = {2,1,3,4};\n",
    "cout<< sort(A,0);"
   ]
  },
  {
   "cell_type": "markdown",
   "id": "8c7f51a9-32e7-498e-8446-57a12f8333d9",
   "metadata": {},
   "source": [
    "---"
   ]
  },
  {
   "cell_type": "markdown",
   "id": "a8f26f71-dbc2-4bba-86d7-4fb61306eadb",
   "metadata": {},
   "source": [
    "\n",
    "| LoF Pattern         | Example Problems                       |\n",
    "| ------------------- | -------------------------------------- |\n",
    "| Head Recursion      | Sum digits, string reverse, isSorted   |\n",
    "| Tail Recursion      | Factorial, power, last index           |\n",
    "| Divide & Conquer    | Merge sort, binary search, tree height |\n",
    "| Include/Exclude     | Subsets, knapsack, coin change         |\n",
    "| Two-pointer         | Palindrome check, string compare       |\n",
    "| DFS / Backtracking  | N-Queens, Sudoku, Maze Path            |\n",
    "| Tree / Graph DFS    | Tree traversal, cycle detection        |\n",
    "| DP with Memoization | Fibonacci, LCS, coin change            |\n"
   ]
  },
  {
   "cell_type": "markdown",
   "id": "fda67f15-d43f-498f-a15a-98d0beccd3e4",
   "metadata": {},
   "source": [
    "\n",
    "---"
   ]
  },
  {
   "cell_type": "markdown",
   "id": "d36fd614-eb87-4ecc-85d4-1876dd9f5528",
   "metadata": {},
   "source": [
    "### **\"We go first\"**  technique\n",
    "### **\"We go last\"**  in Divide & conquer"
   ]
  },
  {
   "cell_type": "markdown",
   "id": "9a201698-362e-477d-b4a2-1c8b4d111eea",
   "metadata": {},
   "source": [
    "        1\n",
    "       / \\\n",
    "      2   3\n",
    "     /   / \\\n",
    "    4   5   6\n",
    "             \\\n",
    "              16\n"
   ]
  },
  {
   "cell_type": "code",
   "execution_count": 21,
   "id": "153ae8cb-3be5-4e72-b65b-097b147371ff",
   "metadata": {},
   "outputs": [],
   "source": [
    "\n",
    "// Define the TreeNode class\n",
    "struct TreeNode {\n",
    "    int val;\n",
    "    TreeNode* left;\n",
    "    TreeNode* right;\n",
    "\n",
    "    TreeNode(int x) : val(x), left(nullptr), right(nullptr) {}\n",
    "};\n"
   ]
  },
  {
   "cell_type": "code",
   "execution_count": 22,
   "id": "3c187531-eece-4b8d-9e3a-07a0ba51eabe",
   "metadata": {},
   "outputs": [
    {
     "name": "stderr",
     "output_type": "stream",
     "text": [
      "input_line_40:9:1: error: reference to 'TreeNode' is ambiguous\n",
      "TreeNode* root = new TreeNode(1);\n",
      "^\n",
      "input_line_25:4:8: note: candidate found by name lookup is 'TreeNode'\n",
      "struct TreeNode {\n",
      "       ^\n",
      "input_line_16:4:8: note: candidate found by name lookup is 'TreeNode'\n",
      "struct TreeNode {\n",
      "       ^\n",
      "input_line_40:10:18: error: reference to 'TreeNode' is ambiguous\n",
      "root->left = new TreeNode(2);\n",
      "                 ^\n",
      "input_line_25:4:8: note: candidate found by name lookup is 'TreeNode'\n",
      "struct TreeNode {\n",
      "       ^\n",
      "input_line_16:4:8: note: candidate found by name lookup is 'TreeNode'\n",
      "struct TreeNode {\n",
      "       ^\n",
      "input_line_40:10:14: error: assigning to 'TreeNode *' from incompatible type 'TreeNode *'\n",
      "root->left = new TreeNode(2);\n",
      "             ^~~~~~~~~~~~~~~\n",
      "input_line_40:11:19: error: reference to 'TreeNode' is ambiguous\n",
      "root->right = new TreeNode(3);\n",
      "                  ^\n",
      "input_line_25:4:8: note: candidate found by name lookup is 'TreeNode'\n",
      "struct TreeNode {\n",
      "       ^\n",
      "input_line_16:4:8: note: candidate found by name lookup is 'TreeNode'\n",
      "struct TreeNode {\n",
      "       ^\n",
      "input_line_40:11:15: error: assigning to 'TreeNode *' from incompatible type 'TreeNode *'\n",
      "root->right = new TreeNode(3);\n",
      "              ^~~~~~~~~~~~~~~\n",
      "input_line_40:12:24: error: reference to 'TreeNode' is ambiguous\n",
      "root->left->left = new TreeNode(4);\n",
      "                       ^\n",
      "input_line_25:4:8: note: candidate found by name lookup is 'TreeNode'\n",
      "struct TreeNode {\n",
      "       ^\n",
      "input_line_16:4:8: note: candidate found by name lookup is 'TreeNode'\n",
      "struct TreeNode {\n",
      "       ^\n",
      "input_line_40:12:20: error: assigning to 'TreeNode *' from incompatible type 'TreeNode *'\n",
      "root->left->left = new TreeNode(4);\n",
      "                   ^~~~~~~~~~~~~~~\n",
      "input_line_40:13:25: error: reference to 'TreeNode' is ambiguous\n",
      "root->right->left = new TreeNode(5);\n",
      "                        ^\n",
      "input_line_25:4:8: note: candidate found by name lookup is 'TreeNode'\n",
      "struct TreeNode {\n",
      "       ^\n",
      "input_line_16:4:8: note: candidate found by name lookup is 'TreeNode'\n",
      "struct TreeNode {\n",
      "       ^\n",
      "input_line_40:13:21: error: assigning to 'TreeNode *' from incompatible type 'TreeNode *'\n",
      "root->right->left = new TreeNode(5);\n",
      "                    ^~~~~~~~~~~~~~~\n",
      "input_line_40:14:26: error: reference to 'TreeNode' is ambiguous\n",
      "root->right->right = new TreeNode(6);\n",
      "                         ^\n",
      "input_line_25:4:8: note: candidate found by name lookup is 'TreeNode'\n",
      "struct TreeNode {\n",
      "       ^\n",
      "input_line_16:4:8: note: candidate found by name lookup is 'TreeNode'\n",
      "struct TreeNode {\n",
      "       ^\n",
      "input_line_40:14:22: error: assigning to 'TreeNode *' from incompatible type 'TreeNode *'\n",
      "root->right->right = new TreeNode(6);\n",
      "                     ^~~~~~~~~~~~~~~\n",
      "input_line_40:15:33: error: reference to 'TreeNode' is ambiguous\n",
      "root->right->right->right = new TreeNode(16);\n",
      "                                ^\n",
      "input_line_25:4:8: note: candidate found by name lookup is 'TreeNode'\n",
      "struct TreeNode {\n",
      "       ^\n",
      "input_line_16:4:8: note: candidate found by name lookup is 'TreeNode'\n",
      "struct TreeNode {\n",
      "       ^\n",
      "input_line_40:15:29: error: assigning to 'TreeNode *' from incompatible type 'TreeNode *'\n",
      "root->right->right->right = new TreeNode(16);\n",
      "                            ^~~~~~~~~~~~~~~~\n",
      "input_line_40:16:40: error: reference to 'TreeNode' is ambiguous\n",
      "root->right->right->right->right = new TreeNode(17);\n",
      "                                       ^\n",
      "input_line_25:4:8: note: candidate found by name lookup is 'TreeNode'\n",
      "struct TreeNode {\n",
      "       ^\n",
      "input_line_16:4:8: note: candidate found by name lookup is 'TreeNode'\n",
      "struct TreeNode {\n",
      "       ^\n",
      "input_line_40:16:36: error: assigning to 'TreeNode *' from incompatible type 'TreeNode *'\n",
      "root->right->right->right->right = new TreeNode(17);\n",
      "                                   ^~~~~~~~~~~~~~~~\n"
     ]
    },
    {
     "ename": "Interpreter Error",
     "evalue": "",
     "output_type": "error",
     "traceback": [
      "Interpreter Error: "
     ]
    }
   ],
   "source": [
    "#include <iostream>\n",
    "using namespace std;\n",
    "\n",
    "\n",
    "// Build the tree:\n",
    "//         1\n",
    "//        / \\\n",
    "//       2   3\n",
    "//      /   / \\\n",
    "//     4   5   6\n",
    "\n",
    "TreeNode* root = new TreeNode(1);\n",
    "root->left = new TreeNode(2);\n",
    "root->right = new TreeNode(3);\n",
    "\n",
    "root->left->left = new TreeNode(4);\n",
    "\n",
    "root->right->left = new TreeNode(5);\n",
    "root->right->right = new TreeNode(6);\n",
    "root->right->right->right = new TreeNode(16);\n",
    "root->right->right->right->right = new TreeNode(17);\n",
    "\n",
    "cout << \"Binary tree created.\" << endl;\n",
    "\n"
   ]
  },
  {
   "cell_type": "markdown",
   "id": "ac74b1d9-b3c7-4946-ad2e-34f4e4689dc9",
   "metadata": {},
   "source": [
    "### Trees\n",
    "Count leaf node. Not sure if its correct?\n"
   ]
  },
  {
   "cell_type": "code",
   "execution_count": 9,
   "id": "45361bdb-1955-4cb0-94e2-1c157f94d26a",
   "metadata": {},
   "outputs": [],
   "source": [
    "int func(TreeNode* node){\n",
    "    if (node == NULL) return 0;\n",
    "\n",
    "    int left = func(node->left);\n",
    "    int right = func(node->right);\n",
    "\n",
    "    if (node->left == NULL && node->right == NULL){\n",
    "        return 1;}\n",
    "    else{\n",
    "        return left + right;\n",
    "    }\n",
    "}"
   ]
  },
  {
   "cell_type": "code",
   "execution_count": 10,
   "id": "620b4f8e-ac55-41f4-8175-7899ae6b89b6",
   "metadata": {},
   "outputs": [
    {
     "name": "stdout",
     "output_type": "stream",
     "text": [
      "3"
     ]
    }
   ],
   "source": [
    "cout<<func(root);"
   ]
  },
  {
   "cell_type": "markdown",
   "id": "c89e1c50-a2dc-40fa-bea3-0df91d9c2135",
   "metadata": {},
   "source": [
    "###  Count height of tree - \"I'll go last\""
   ]
  },
  {
   "cell_type": "code",
   "execution_count": null,
   "id": "eb4b3d95-62a4-48d2-b7d2-fea4b475a312",
   "metadata": {},
   "outputs": [],
   "source": []
  },
  {
   "cell_type": "code",
   "execution_count": 14,
   "id": "304a3515-e802-4274-844d-486a7b3b8a8d",
   "metadata": {},
   "outputs": [
    {
     "name": "stderr",
     "output_type": "stream",
     "text": [
      "input_line_27:1:9: error: reference to 'TreeNode' is ambiguous\n",
      "int foo(TreeNode *node){\n",
      "        ^\n",
      "input_line_25:4:8: note: candidate found by name lookup is 'TreeNode'\n",
      "struct TreeNode {\n",
      "       ^\n",
      "input_line_16:4:8: note: candidate found by name lookup is 'TreeNode'\n",
      "struct TreeNode {\n",
      "       ^\n",
      "input_line_27:1:9: error: reference to 'TreeNode' is ambiguous\n",
      "int foo(TreeNode *node){\n",
      "        ^\n",
      "input_line_25:4:8: note: candidate found by name lookup is 'TreeNode'\n",
      "struct TreeNode {\n",
      "       ^\n",
      "input_line_16:4:8: note: candidate found by name lookup is 'TreeNode'\n",
      "struct TreeNode {\n",
      "       ^\n",
      "input_line_27:3:16: error: call to 'foo' is ambiguous\n",
      "    int left = foo(node->left);//give me height of left\n",
      "               ^~~\n",
      "input_line_22:1:5: note: candidate function\n",
      "int foo(TreeNode *node){\n",
      "    ^\n",
      "input_line_27:1:5: note: candidate function\n",
      "int foo(TreeNode *node){\n",
      "    ^\n",
      "input_line_27:5:17: error: call to 'foo' is ambiguous\n",
      "    int right = foo(node->right); // give me height of right\n",
      "                ^~~\n",
      "input_line_22:1:5: note: candidate function\n",
      "int foo(TreeNode *node){\n",
      "    ^\n",
      "input_line_27:1:5: note: candidate function\n",
      "int foo(TreeNode *node){\n",
      "    ^\n"
     ]
    },
    {
     "ename": "Interpreter Error",
     "evalue": "",
     "output_type": "error",
     "traceback": [
      "Interpreter Error: "
     ]
    }
   ],
   "source": [
    "\n",
    "\n",
    "\n",
    "\n",
    "int foo(TreeNode *node){\n",
    "    if (node == NULL) return 0;\n",
    "\n",
    "    int left = foo(node->left);//give me height of left\n",
    "    \n",
    "    int right = foo(node->right); // give me height of right\n",
    "    //i'll just add 1 for my node to your answers(i'll choose max of you both)\n",
    "    return 1 + max(left,right);\n",
    "}"
   ]
  },
  {
   "cell_type": "code",
   "execution_count": 12,
   "id": "f5e64ec3-49cf-43cf-b8c1-5ed9bc982b74",
   "metadata": {},
   "outputs": [
    {
     "name": "stdout",
     "output_type": "stream",
     "text": [
      "4"
     ]
    }
   ],
   "source": [
    "cout <<foo(root);"
   ]
  },
  {
   "cell_type": "code",
   "execution_count": null,
   "id": "2e3c3a8b-4ad4-4f08-839c-4af89a1e135f",
   "metadata": {},
   "outputs": [],
   "source": []
  }
 ],
 "metadata": {
  "kernelspec": {
   "display_name": "C++17",
   "language": "C++17",
   "name": "xcpp17"
  },
  "language_info": {
   "codemirror_mode": "text/x-c++src",
   "file_extension": ".cpp",
   "mimetype": "text/x-c++src",
   "name": "c++",
   "version": "17"
  }
 },
 "nbformat": 4,
 "nbformat_minor": 5
}
