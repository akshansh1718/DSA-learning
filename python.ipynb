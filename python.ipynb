{
 "cells": [
  {
   "cell_type": "markdown",
   "id": "9f48f6fa-58eb-4a94-bcac-2fb345bfa64b",
   "metadata": {},
   "source": [
    "# Python Learning Weekend Sprint"
   ]
  },
  {
   "cell_type": "code",
   "execution_count": 1,
   "id": "b4946115-3a2d-4f78-922c-77e11d834d34",
   "metadata": {},
   "outputs": [
    {
     "name": "stdout",
     "output_type": "stream",
     "text": [
      "test\n"
     ]
    }
   ],
   "source": [
    "print('test')"
   ]
  },
  {
   "cell_type": "markdown",
   "id": "7ad438eb-8061-4daf-aaf0-06bf6ea151ac",
   "metadata": {},
   "source": [
    "---"
   ]
  },
  {
   "cell_type": "markdown",
   "id": "d209f3e0-b1d5-43b9-b8fa-1cb2c530a9b5",
   "metadata": {},
   "source": [
    "# For loops"
   ]
  },
  {
   "cell_type": "code",
   "execution_count": 2,
   "id": "7a7fc0d7-69ed-4250-9e73-7a6c96dfca7c",
   "metadata": {},
   "outputs": [
    {
     "name": "stdout",
     "output_type": "stream",
     "text": [
      "1\n",
      "2\n",
      "test\n",
      "3.5\n"
     ]
    }
   ],
   "source": [
    "arr = [1,2,\"test\", 3.5]\n",
    "\n",
    "for item in arr:\n",
    "    print (item)"
   ]
  },
  {
   "cell_type": "markdown",
   "id": "38c20cfa-5f6c-401b-9d38-4e57b74eeca9",
   "metadata": {},
   "source": [
    "# Unpacking in for loop"
   ]
  },
  {
   "cell_type": "code",
   "execution_count": 5,
   "id": "c3edb4ae-0a99-4b09-bda2-633c8ebdf091",
   "metadata": {},
   "outputs": [
    {
     "ename": "TypeError",
     "evalue": "cannot unpack non-iterable int object",
     "output_type": "error",
     "traceback": [
      "\u001b[0;31m---------------------------------------------------------------------------\u001b[0m",
      "\u001b[0;31mTypeError\u001b[0m                                 Traceback (most recent call last)",
      "Cell \u001b[0;32mIn[5], line 3\u001b[0m\n\u001b[1;32m      1\u001b[0m arr \u001b[38;5;241m=\u001b[39m [\u001b[38;5;241m1\u001b[39m,\u001b[38;5;241m2\u001b[39m,\u001b[38;5;124m\"\u001b[39m\u001b[38;5;124mtest\u001b[39m\u001b[38;5;124m\"\u001b[39m, \u001b[38;5;241m3.5\u001b[39m] \u001b[38;5;66;03m#Can't be unpacked\u001b[39;00m\n\u001b[0;32m----> 3\u001b[0m \u001b[38;5;28;01mfor\u001b[39;00m idx,item \u001b[38;5;129;01min\u001b[39;00m arr:  \u001b[38;5;66;03m#----> idNot allowed\u001b[39;00m\n\u001b[1;32m      4\u001b[0m     \u001b[38;5;28mprint\u001b[39m (idx ,\u001b[38;5;124m\"\u001b[39m\u001b[38;5;124m:\u001b[39m\u001b[38;5;124m\"\u001b[39m,item)\n",
      "\u001b[0;31mTypeError\u001b[0m: cannot unpack non-iterable int object"
     ]
    }
   ],
   "source": [
    "arr = [1,2,\"test\", 3.5] #Can't be unpacked\n",
    "\n",
    "for idx,item in arr:  #----> idx Not allowed\n",
    "    print (idx ,\":\",item)"
   ]
  },
  {
   "cell_type": "markdown",
   "id": "400d302c-ff5e-444e-b8a8-ecefb24a7646",
   "metadata": {},
   "source": [
    "# To make it unpackable or iteratable"
   ]
  },
  {
   "cell_type": "code",
   "execution_count": 6,
   "id": "2b2f2601-5e87-4480-b1c0-fa0312b239ab",
   "metadata": {},
   "outputs": [
    {
     "name": "stdout",
     "output_type": "stream",
     "text": [
      "1 : 2\n",
      "test : 3.5\n"
     ]
    }
   ],
   "source": [
    "arr = [(1,2),(\"test\", 3.5)]\n",
    "\n",
    "for idx,item in arr:\n",
    "    print (idx, \":\", item)"
   ]
  },
  {
   "cell_type": "markdown",
   "id": "2d8a2994-8680-4359-b14a-f107f4f33d64",
   "metadata": {},
   "source": [
    "# Then how to get index in array/ list elements?"
   ]
  },
  {
   "cell_type": "code",
   "execution_count": 9,
   "id": "38cc281a-8d90-4080-8902-25fb7ed1490b",
   "metadata": {},
   "outputs": [
    {
     "name": "stdout",
     "output_type": "stream",
     "text": [
      "1 : 1\n",
      "2 : 2\n",
      "3 : test\n",
      "4 : 3.5\n"
     ]
    }
   ],
   "source": [
    "arr = [1,2,\"test\", 3.5] #Can't be unpacked, hence lets enumurate\n",
    "\n",
    "for idx,item in enumerate(arr,1):  #----> Now allowed\n",
    "    print (idx ,\":\",item)"
   ]
  },
  {
   "cell_type": "markdown",
   "id": "1463e927-5ab4-4f19-b3cb-adc1efc762c9",
   "metadata": {},
   "source": [
    "# Insert, pop, Reverse Iteration"
   ]
  },
  {
   "cell_type": "code",
   "execution_count": 23,
   "id": "21cc099c-36c8-4863-b321-f4cff18bdd98",
   "metadata": {},
   "outputs": [
    {
     "name": "stdout",
     "output_type": "stream",
     "text": [
      "['two', 3, 'four', 5, 'six', 7, 8]\n",
      "reverse iteration six\n"
     ]
    }
   ],
   "source": [
    "\n",
    "list  = [1,'two',3,'four',5,'six']\n",
    "\n",
    "# print(list.pop(0))\n",
    "list.pop(0)\n",
    "list.append(7)\n",
    "list.insert(6,8)\n",
    "print(list)\n",
    "print(\"reverse iteration\",list[-3])\n",
    "# list"
   ]
  },
  {
   "cell_type": "markdown",
   "id": "aeb1aba5-50fd-4edd-bc46-3b30b7867728",
   "metadata": {},
   "source": [
    "---"
   ]
  },
  {
   "cell_type": "markdown",
   "id": "3d958554-661e-4725-a64e-6af65e38b56c",
   "metadata": {},
   "source": [
    "# [start index : end index]"
   ]
  },
  {
   "cell_type": "code",
   "execution_count": 1,
   "id": "7f67d00c-e1ff-4619-b75c-8063a46b65e1",
   "metadata": {},
   "outputs": [
    {
     "name": "stdout",
     "output_type": "stream",
     "text": [
      "[2, 3]\n",
      "['This', 'is', 'a', 'mobile', 'boot', 'up', 'log']\n"
     ]
    },
    {
     "data": {
      "text/plain": [
       "['mobile']"
      ]
     },
     "execution_count": 1,
     "metadata": {},
     "output_type": "execute_result"
    }
   ],
   "source": [
    "list = [1,2,3,4,5,6,7]\n",
    "\n",
    "str = \"This is a mobile boot up log\"\n",
    "g_list = str.split( )\n",
    "\n",
    "print(list[1:3])\n",
    "print(g_list)\n",
    "var = g_list[3:4]\n",
    "var\n"
   ]
  },
  {
   "cell_type": "markdown",
   "id": "8809a9e5-951d-48ad-8468-357d6c9cb793",
   "metadata": {},
   "source": [
    "# [start index : end index : step size]"
   ]
  },
  {
   "cell_type": "code",
   "execution_count": 5,
   "id": "5f1d9a2d-ba12-42e9-a897-c975596d00d5",
   "metadata": {},
   "outputs": [
    {
     "name": "stdout",
     "output_type": "stream",
     "text": [
      "[3, 5, 7]\n"
     ]
    }
   ],
   "source": [
    "print(list[2::2])"
   ]
  },
  {
   "cell_type": "markdown",
   "id": "0b3cdfbe-bf59-40e4-808a-75e2f474ab83",
   "metadata": {},
   "source": [
    "# In append the new list is added as an element at the end. But in extend the original list increases with new elements."
   ]
  },
  {
   "cell_type": "markdown",
   "id": "6424c850-6a9e-44cf-b4e9-273327d0698e",
   "metadata": {},
   "source": [
    "### Append"
   ]
  },
  {
   "cell_type": "code",
   "execution_count": 7,
   "id": "065633f2-4186-4384-9a86-0c2a4b7accc8",
   "metadata": {},
   "outputs": [
    {
     "name": "stdout",
     "output_type": "stream",
     "text": [
      "[1, 2, 3, ['i', 'am', 'a', 'boy']]\n"
     ]
    }
   ],
   "source": [
    "l1 = [1,2,3]\n",
    "l2 = ['i' , 'am', 'a', 'boy']\n",
    "\n",
    "l1.append(l2)\n",
    "\n",
    "print(l1)\n"
   ]
  },
  {
   "cell_type": "markdown",
   "id": "ecb86bdf-0d57-4217-8184-515ec0902281",
   "metadata": {},
   "source": [
    "### Extend"
   ]
  },
  {
   "cell_type": "code",
   "execution_count": 9,
   "id": "346aa7da-08df-4be8-bd8a-5f9fa9e52d8d",
   "metadata": {},
   "outputs": [
    {
     "name": "stdout",
     "output_type": "stream",
     "text": [
      "[1, 2, 3, ['i', 'am', 'a', 'boy'], 'i', 'am', 'a', 'boy']\n"
     ]
    }
   ],
   "source": [
    "l1.extend(l2)\n",
    "print(l1)"
   ]
  },
  {
   "cell_type": "markdown",
   "id": "95b55c5e-692d-4349-970c-176e71416f2d",
   "metadata": {},
   "source": [
    "## Adding two list is same as extend NOT append"
   ]
  },
  {
   "cell_type": "code",
   "execution_count": 11,
   "id": "e097247d-032b-4185-8647-de2232ed2a1c",
   "metadata": {},
   "outputs": [
    {
     "name": "stdout",
     "output_type": "stream",
     "text": [
      "[1, 2, 3, ['i', 'am', 'a', 'boy'], 'i', 'am', 'a', 'boy', 'i', 'am', 'a', 'boy']\n"
     ]
    }
   ],
   "source": [
    "print(l1 + l2)"
   ]
  },
  {
   "cell_type": "markdown",
   "id": "0e5753a5-7c47-41ff-848a-7c2f5348465a",
   "metadata": {},
   "source": [
    "# Calculate i for all values of i ranging from 0:9"
   ]
  },
  {
   "cell_type": "markdown",
   "id": "6bc3f9af-49f7-4a34-95fe-04c99da3fe61",
   "metadata": {},
   "source": [
    "![](./images/i.png)"
   ]
  },
  {
   "cell_type": "code",
   "execution_count": 13,
   "id": "22a3d19b-0d09-43bf-b44f-91ecb38942f2",
   "metadata": {},
   "outputs": [
    {
     "name": "stdout",
     "output_type": "stream",
     "text": [
      "[0, 1, 4, 9, 16, 25, 36, 49, 64, 81]\n"
     ]
    }
   ],
   "source": [
    "l3 = [ i**2 for i in range(10)]\n",
    "\n",
    "print(l3)"
   ]
  },
  {
   "cell_type": "markdown",
   "id": "0b8bb9ee-9519-45a0-b9f9-b48cb764cef9",
   "metadata": {},
   "source": [
    "# So it seems tuple is just an immutable list"
   ]
  },
  {
   "cell_type": "code",
   "execution_count": 16,
   "id": "2af2c4e5-f339-445b-a9e1-5aa6002e1dda",
   "metadata": {},
   "outputs": [
    {
     "name": "stdout",
     "output_type": "stream",
     "text": [
      "<class 'list'>\n"
     ]
    }
   ],
   "source": [
    "t = [1,2]\n",
    "\n",
    "print (type(t))"
   ]
  },
  {
   "cell_type": "code",
   "execution_count": 23,
   "id": "7d9cb52f-2df0-4755-a33b-99be3c1d95ab",
   "metadata": {},
   "outputs": [
    {
     "name": "stdout",
     "output_type": "stream",
     "text": [
      "[1, 4, 5, 12, 23]\n",
      "[1, 4, 5, 12, 23]\n"
     ]
    }
   ],
   "source": [
    "t2 = 1,12,23,4,5\n",
    "list = [1,12,23,4,5]\n",
    "\n",
    "print(sorted(t2))\n",
    "#print(t2.sort()) #---> error\n",
    "list.sort()\n",
    "print(list)"
   ]
  },
  {
   "cell_type": "markdown",
   "id": "2f7b133b-d08d-415a-bdad-fe883539dbf9",
   "metadata": {},
   "source": [
    "---"
   ]
  },
  {
   "cell_type": "markdown",
   "id": "de7b9c54-3669-4adb-98a3-205dc642103f",
   "metadata": {},
   "source": [
    "# Set is similar to unordered_set in C++"
   ]
  },
  {
   "cell_type": "markdown",
   "id": "5cb0ba04-2407-4512-afa5-caafeed5f7c4",
   "metadata": {},
   "source": [
    "## Remove vs Discard"
   ]
  },
  {
   "cell_type": "markdown",
   "id": "b66e4a94-ddbe-42a9-bd3a-039ac179e357",
   "metadata": {},
   "source": [
    "## Remove will give an error is elemetn is not present in the set. But discard won't"
   ]
  },
  {
   "cell_type": "code",
   "execution_count": 1,
   "id": "5faffdeb-602b-43d6-bfaa-5fb7259f2d2e",
   "metadata": {},
   "outputs": [],
   "source": [
    "s = {1,2,3,4}"
   ]
  },
  {
   "cell_type": "code",
   "execution_count": 2,
   "id": "c7d34a0e-2e69-4234-bf70-5122b8f76142",
   "metadata": {},
   "outputs": [
    {
     "ename": "KeyError",
     "evalue": "5",
     "output_type": "error",
     "traceback": [
      "\u001b[0;31m---------------------------------------------------------------------------\u001b[0m",
      "\u001b[0;31mKeyError\u001b[0m                                  Traceback (most recent call last)",
      "Cell \u001b[0;32mIn[2], line 1\u001b[0m\n\u001b[0;32m----> 1\u001b[0m \u001b[43ms\u001b[49m\u001b[38;5;241;43m.\u001b[39;49m\u001b[43mremove\u001b[49m\u001b[43m(\u001b[49m\u001b[38;5;241;43m5\u001b[39;49m\u001b[43m)\u001b[49m\n",
      "\u001b[0;31mKeyError\u001b[0m: 5"
     ]
    }
   ],
   "source": [
    "s.remove(5)\n"
   ]
  },
  {
   "cell_type": "code",
   "execution_count": 3,
   "id": "c8ea08d7-769b-4c34-883a-59f0bb16d9d6",
   "metadata": {},
   "outputs": [],
   "source": [
    "s.discard(5)"
   ]
  },
  {
   "cell_type": "code",
   "execution_count": null,
   "id": "57c7df3a-bf00-4ca4-915b-bb9e5c9a0900",
   "metadata": {},
   "outputs": [],
   "source": [
    "s.disca"
   ]
  }
 ],
 "metadata": {
  "kernelspec": {
   "display_name": "Python 3 (ipykernel)",
   "language": "python",
   "name": "python3"
  },
  "language_info": {
   "codemirror_mode": {
    "name": "ipython",
    "version": 3
   },
   "file_extension": ".py",
   "mimetype": "text/x-python",
   "name": "python",
   "nbconvert_exporter": "python",
   "pygments_lexer": "ipython3",
   "version": "3.11.6"
  }
 },
 "nbformat": 4,
 "nbformat_minor": 5
}
