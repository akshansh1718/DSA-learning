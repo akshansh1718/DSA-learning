{
 "cells": [
  {
   "cell_type": "markdown",
   "id": "9f48f6fa-58eb-4a94-bcac-2fb345bfa64b",
   "metadata": {},
   "source": [
    "### Python Learning Weekend Sprint"
   ]
  },
  {
   "cell_type": "code",
   "execution_count": null,
   "id": "b4946115-3a2d-4f78-922c-77e11d834d34",
   "metadata": {},
   "outputs": [],
   "source": []
  }
 ],
 "metadata": {
  "kernelspec": {
   "display_name": "C++17",
   "language": "C++17",
   "name": "xcpp17"
  },
  "language_info": {
   "codemirror_mode": "text/x-c++src",
   "file_extension": ".cpp",
   "mimetype": "text/x-c++src",
   "name": "c++",
   "version": "17"
  }
 },
 "nbformat": 4,
 "nbformat_minor": 5
}
