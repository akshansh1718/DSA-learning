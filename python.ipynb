{
 "cells": [
  {
   "cell_type": "markdown",
   "id": "9f48f6fa-58eb-4a94-bcac-2fb345bfa64b",
   "metadata": {},
   "source": [
    "# Python Learning Weekend Sprint"
   ]
  },
  {
   "cell_type": "code",
   "execution_count": 1,
   "id": "b4946115-3a2d-4f78-922c-77e11d834d34",
   "metadata": {},
   "outputs": [
    {
     "name": "stdout",
     "output_type": "stream",
     "text": [
      "test\n"
     ]
    }
   ],
   "source": [
    "print('test')"
   ]
  },
  {
   "cell_type": "markdown",
   "id": "7ad438eb-8061-4daf-aaf0-06bf6ea151ac",
   "metadata": {},
   "source": [
    "---"
   ]
  },
  {
   "cell_type": "markdown",
   "id": "d209f3e0-b1d5-43b9-b8fa-1cb2c530a9b5",
   "metadata": {},
   "source": [
    "# For loops"
   ]
  },
  {
   "cell_type": "code",
   "execution_count": 2,
   "id": "7a7fc0d7-69ed-4250-9e73-7a6c96dfca7c",
   "metadata": {},
   "outputs": [
    {
     "name": "stdout",
     "output_type": "stream",
     "text": [
      "1\n",
      "2\n",
      "test\n",
      "3.5\n"
     ]
    }
   ],
   "source": [
    "arr = [1,2,\"test\", 3.5]\n",
    "\n",
    "for item in arr:\n",
    "    print (item)"
   ]
  },
  {
   "cell_type": "markdown",
   "id": "38c20cfa-5f6c-401b-9d38-4e57b74eeca9",
   "metadata": {},
   "source": [
    "# Unpacking in for loop"
   ]
  },
  {
   "cell_type": "code",
   "execution_count": 5,
   "id": "c3edb4ae-0a99-4b09-bda2-633c8ebdf091",
   "metadata": {},
   "outputs": [
    {
     "ename": "TypeError",
     "evalue": "cannot unpack non-iterable int object",
     "output_type": "error",
     "traceback": [
      "\u001b[0;31m---------------------------------------------------------------------------\u001b[0m",
      "\u001b[0;31mTypeError\u001b[0m                                 Traceback (most recent call last)",
      "Cell \u001b[0;32mIn[5], line 3\u001b[0m\n\u001b[1;32m      1\u001b[0m arr \u001b[38;5;241m=\u001b[39m [\u001b[38;5;241m1\u001b[39m,\u001b[38;5;241m2\u001b[39m,\u001b[38;5;124m\"\u001b[39m\u001b[38;5;124mtest\u001b[39m\u001b[38;5;124m\"\u001b[39m, \u001b[38;5;241m3.5\u001b[39m] \u001b[38;5;66;03m#Can't be unpacked\u001b[39;00m\n\u001b[0;32m----> 3\u001b[0m \u001b[38;5;28;01mfor\u001b[39;00m idx,item \u001b[38;5;129;01min\u001b[39;00m arr:  \u001b[38;5;66;03m#----> idNot allowed\u001b[39;00m\n\u001b[1;32m      4\u001b[0m     \u001b[38;5;28mprint\u001b[39m (idx ,\u001b[38;5;124m\"\u001b[39m\u001b[38;5;124m:\u001b[39m\u001b[38;5;124m\"\u001b[39m,item)\n",
      "\u001b[0;31mTypeError\u001b[0m: cannot unpack non-iterable int object"
     ]
    }
   ],
   "source": [
    "arr = [1,2,\"test\", 3.5] #Can't be unpacked\n",
    "\n",
    "for idx,item in arr:  #----> idx Not allowed\n",
    "    print (idx ,\":\",item)"
   ]
  },
  {
   "cell_type": "markdown",
   "id": "400d302c-ff5e-444e-b8a8-ecefb24a7646",
   "metadata": {},
   "source": [
    "# To make it unpackable or iteratable"
   ]
  },
  {
   "cell_type": "code",
   "execution_count": 6,
   "id": "2b2f2601-5e87-4480-b1c0-fa0312b239ab",
   "metadata": {},
   "outputs": [
    {
     "name": "stdout",
     "output_type": "stream",
     "text": [
      "1 : 2\n",
      "test : 3.5\n"
     ]
    }
   ],
   "source": [
    "arr = [(1,2),(\"test\", 3.5)]\n",
    "\n",
    "for idx,item in arr:\n",
    "    print (idx, \":\", item)"
   ]
  },
  {
   "cell_type": "markdown",
   "id": "2d8a2994-8680-4359-b14a-f107f4f33d64",
   "metadata": {},
   "source": [
    "# Then how to get index in array/ list elements?"
   ]
  },
  {
   "cell_type": "code",
   "execution_count": 9,
   "id": "38cc281a-8d90-4080-8902-25fb7ed1490b",
   "metadata": {},
   "outputs": [
    {
     "name": "stdout",
     "output_type": "stream",
     "text": [
      "1 : 1\n",
      "2 : 2\n",
      "3 : test\n",
      "4 : 3.5\n"
     ]
    }
   ],
   "source": [
    "arr = [1,2,\"test\", 3.5] #Can't be unpacked, hence lets enumurate\n",
    "\n",
    "for idx,item in enumerate(arr,1):  #----> Now allowed\n",
    "    print (idx ,\":\",item)"
   ]
  },
  {
   "cell_type": "code",
   "execution_count": 18,
   "id": "21cc099c-36c8-4863-b321-f4cff18bdd98",
   "metadata": {},
   "outputs": [
    {
     "data": {
      "text/plain": [
       "['two', 3, 'four', 5, 'six', 7, 8]"
      ]
     },
     "execution_count": 18,
     "metadata": {},
     "output_type": "execute_result"
    }
   ],
   "source": [
    "\n",
    "list  = [1,'two',3,'four',5,'six']\n",
    "\n",
    "# print(list.pop(0))\n",
    "list.pop(0)\n",
    "list.append(7)\n",
    "list.insert(6,8)\n",
    "list"
   ]
  },
  {
   "cell_type": "code",
   "execution_count": null,
   "id": "7f67d00c-e1ff-4619-b75c-8063a46b65e1",
   "metadata": {},
   "outputs": [],
   "source": []
  }
 ],
 "metadata": {
  "kernelspec": {
   "display_name": "Python 3 (ipykernel)",
   "language": "python",
   "name": "python3"
  },
  "language_info": {
   "codemirror_mode": {
    "name": "ipython",
    "version": 3
   },
   "file_extension": ".py",
   "mimetype": "text/x-python",
   "name": "python",
   "nbconvert_exporter": "python",
   "pygments_lexer": "ipython3",
   "version": "3.11.6"
  }
 },
 "nbformat": 4,
 "nbformat_minor": 5
}
