{
 "cells": [
  {
   "cell_type": "markdown",
   "id": "9f48f6fa-58eb-4a94-bcac-2fb345bfa64b",
   "metadata": {},
   "source": [
    "### Python Learning Weekend Sprint"
   ]
  },
  {
   "cell_type": "code",
   "execution_count": 1,
   "id": "b4946115-3a2d-4f78-922c-77e11d834d34",
   "metadata": {},
   "outputs": [
    {
     "name": "stdout",
     "output_type": "stream",
     "text": [
      "test\n"
     ]
    }
   ],
   "source": [
    "print('test')"
   ]
  },
  {
   "cell_type": "markdown",
   "id": "7ad438eb-8061-4daf-aaf0-06bf6ea151ac",
   "metadata": {},
   "source": [
    "---"
   ]
  },
  {
   "cell_type": "markdown",
   "id": "d209f3e0-b1d5-43b9-b8fa-1cb2c530a9b5",
   "metadata": {},
   "source": [
    "## For loops"
   ]
  },
  {
   "cell_type": "code",
   "execution_count": 2,
   "id": "7a7fc0d7-69ed-4250-9e73-7a6c96dfca7c",
   "metadata": {},
   "outputs": [
    {
     "name": "stdout",
     "output_type": "stream",
     "text": [
      "1\n",
      "2\n",
      "test\n",
      "3.5\n"
     ]
    }
   ],
   "source": [
    "arr = [1,2,\"test\", 3.5]\n",
    "\n",
    "for item in arr:\n",
    "    print (item)"
   ]
  },
  {
   "cell_type": "code",
   "execution_count": null,
   "id": "6c38710c-fb57-4dac-b493-46a179d46c67",
   "metadata": {},
   "outputs": [],
   "source": []
  }
 ],
 "metadata": {
  "kernelspec": {
   "display_name": "Python 3 (ipykernel)",
   "language": "python",
   "name": "python3"
  },
  "language_info": {
   "codemirror_mode": {
    "name": "ipython",
    "version": 3
   },
   "file_extension": ".py",
   "mimetype": "text/x-python",
   "name": "python",
   "nbconvert_exporter": "python",
   "pygments_lexer": "ipython3",
   "version": "3.11.6"
  }
 },
 "nbformat": 4,
 "nbformat_minor": 5
}
